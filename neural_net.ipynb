{
 "cells": [
  {
   "cell_type": "markdown",
   "metadata": {
    "collapsed": true
   },
   "source": [
    "# Neural Network Implemented with NumPy"
   ]
  },
  {
   "cell_type": "markdown",
   "metadata": {},
   "source": [
    "### Origin"
   ]
  },
  {
   "cell_type": "markdown",
   "metadata": {},
   "source": [
    "This notebook was adapted from code written for my EE 509 Computational Intelligence class. The original assignment description is below. Like most people studying the field of machine learning and deep learning I had thought neural networks were intriguing, yet mysterious. I had heard about them, but in the past I was too busy looking at statistical approaches to go deep into them (despite very much wanting to). For this project, the professor didn't actually require us to implement a neural network from scratch - she actually gave us code examples that used Matlab's built in neural network implementation. She expected us to use these or other pre built neural network libraries, though she did allow us to implement it on our own if we wished.\n",
    "\n",
    "**To my knowledge I'm the only one in the class who implemented it from scratch** (using only numpy for matrix manipulation). Not that it is especially complicated - it is just a basic densely connected feedforward network trained with backpropagation. What this experience did give me was an excellent introduction to neural networks and implementing gradient descent optimization (extremely important). Additionally it gave me the opportunity to convert the \"looping\" backpropagation algorithm derived in the class to a matrix version (for speed / efficiency) which was a fun whiteboard math exercise. I could have hardcoded it to the one input / five hidden neuron / one output neuron structure she asked for, but I decided to make it generalized (as it ought to be).\n",
    "\n",
    "All in all this was a fun little project. It wasn't too complicated, but it was a jumping off point that helped inform me with building and improving stochastic gradient descent (SGD) algorithms in my subsequent projects such as my \"Linear Regression and Linear Gradient Descent Approximation\" notebook."
   ]
  },
  {
   "cell_type": "markdown",
   "metadata": {},
   "source": [
    "### Technical Details"
   ]
  },
  {
   "cell_type": "markdown",
   "metadata": {},
   "source": [
    "- Dense feedforward neural network class implemented in Python3 with numpy\n",
    "- Allows the user to change the topology of the network using a sequence of numbers, each of which specifies the number of neurons per layer: [input vector size, [hidden layer size...], output layer size]\n",
    "- Stores the input/output of each layer in a list of numpy matrices called \"dataflow\"\n",
    "- Stores the weights of each layer in a list of numpy matrices called \"weight_matrices\"\n",
    "- All hidden layers use the $tanh$ activation function, the output layer just uses a linear activation function\n",
    "- The gradient is calculated and weights are updated one training example at a time. When the net reaches the end of the training set, it completes one epoch.\n",
    "- The gradient descent stopping criterion is just based on a set number of epochs (set in the \"fit\" method). I've definately grown more sophisticated since this project :)\n",
    "- The test at the bottom uses a one input / five hidden neuron / one output neuron neural net to approximate the function: $f(x)=xe^{-x}$"
   ]
  },
  {
   "cell_type": "markdown",
   "metadata": {},
   "source": [
    "### Original Assignment Spec"
   ]
  },
  {
   "cell_type": "markdown",
   "metadata": {},
   "source": [
    "Computer simulation - You can use Matlab or other programming languages.\n",
    "1) Generate a feedforward neural network with one hidden layer (of 5 neurons) and one\n",
    "output layer. The activation function of the neurons in hidden layer is hyperbolic tangent\n",
    "function (i.e., \"tangsig\" if using Matlab NN function), and the output neuron is linear\n",
    "(i.e., no nonlinear transfer function, or \"purelin\" if using Matlab NN function)\n",
    "\n",
    "2) Initialize the weights and biases of neural network using random numbers.\n",
    "\n",
    "3) Train the neural network using the Levenberg-Marquardt algorithm (i.e., \"trainlm\" if\n",
    "using Matlab NN function) or the back-propagation algorithm (if writing your own\n",
    "program) to realize the following nonlinear function: f(x) = e^-x.\n",
    "That is, if the input of neural network is x, then the desired output is f(x).\n",
    "\n",
    "Generate the training data set using random numbers. For example, generate 500 samples\n",
    "of random data (i.e., x) that are uniformly distributed between 0 and 20. The 500 samples\n",
    "can then be used as the input of the neural network; and the desired output is f(x).\n",
    "\n",
    "You can set the training epochs to be 100 and the desired performance (i.e., MSE - mean\n",
    "square error) to be a small number (e.g., 10^-7 ).\n",
    "\n",
    "4) Test the performance of neural network. Generate 50 inputs that are evenly distributed\n",
    "between 0 to 5, observe the output of neural network.\n",
    "\n",
    "What you need to turn in for this homework:\n",
    "- Complete program (code)\n",
    "- A plot of the desired output and the output of neural network before training\n",
    "- A plot of the desired output and the output of neural network after training"
   ]
  },
  {
   "cell_type": "markdown",
   "metadata": {},
   "source": [
    "## Implementation"
   ]
  },
  {
   "cell_type": "code",
   "execution_count": 1,
   "metadata": {
    "collapsed": true
   },
   "outputs": [],
   "source": [
    "%matplotlib inline\n",
    "import numpy as np\n",
    "import matplotlib.pyplot as plt"
   ]
  },
  {
   "cell_type": "code",
   "execution_count": 2,
   "metadata": {
    "collapsed": true
   },
   "outputs": [],
   "source": [
    "# Class defines a densely connected feedforward neural network\n",
    "class Feedforward_Neural_Network():\n",
    "\n",
    "    # Constructor initializes parameters\n",
    "    # Layers in the format [input vector size, [hidden layer size...], output layer size]\n",
    "    def __init__(self, layers=[1, 5, 1], learning_rate=.2, supress=True):\n",
    "        self.layers = layers\n",
    "        self.learning_rate = learning_rate\n",
    "        self.suppress_output = supress\n",
    "        self.activation = np.tanh\n",
    "        tanh_deriv = lambda y: 1 - np.power(np.tanh(y), 2)\n",
    "        self.activation_deriv = tanh_deriv\n",
    "\n",
    "        # There are 'len(layers) - 1' weight matrices because the first number in the 'layers' defines\n",
    "        # the network input size. For each layer, the row indexes the output neuron and the column indexes\n",
    "        # the input neuron, so matrix[j, i] stores the weight from input neuron i to output neuron j.\n",
    "        # The second '+ 1' in the list comprehension is to account for the bias input, the zeroth column\n",
    "        # will be the weights from bias to the next layer. Weights are initialized randomly.\n",
    "        self.weight_matrices = [np.matrix(np.random.rand(layers[i+1], layers[i] + 1)) for i in range(len(layers)-1)]\n",
    "\n",
    "        # Stores the input vector of each layer, initializes to one and adds one to length to include bias input\n",
    "        self.dataflow = [np.matrix(np.ones((layers[size] + 1, 1))) for size in range(len(layers) - 1)]\n",
    "        self.dataflow.append(np.matrix(np.zeros((layers[-1], 1)))) # Include output value in data flow list\n",
    "\n",
    "    # Computes the output of the neural network given an input vector\n",
    "    def forward_pass(self, input_vec, linear_output_activation=True):\n",
    "        assert(len(input_vec) == self.layers[0])\n",
    "        # Insert input vector into dataflow list and ensure the result is a column vector\n",
    "        self.dataflow[0][1:] = np.reshape(np.matrix(input_vec), (len(input_vec), 1))\n",
    "\n",
    "        # Loop performs cascaded linear combinations across weight matrices\n",
    "        for i in range(0, len(self.layers)-1):\n",
    "            assert(self.weight_matrices[i].shape[1] == self.dataflow[i].shape[0])\n",
    "            \n",
    "            if (i < len(self.layers)-2): # Hidden Layer\n",
    "                # Output of this layer becomes input to the next\n",
    "                output = self.activation(self.weight_matrices[i] * self.dataflow[i])\n",
    "                self.dataflow[i+1][1:] = output # First element of each input vector is the bias input (1)\n",
    "            else: # Output Layer\n",
    "                if (linear_output_activation):\n",
    "                    output = self.weight_matrices[i] * self.dataflow[i] # Linear Activation (no change)\n",
    "                else:\n",
    "                    output = self.activation(self.weight_matrices[i] * self.dataflow[i])\n",
    "                self.dataflow[i+1][:] = output\n",
    "                assert(output.shape[0] == self.layers[-1]) # Assert expected output shape\n",
    "\n",
    "        return output\n",
    "\n",
    "    # Runs backpropagation and returns a list of weight delta matrices sorted by layer\n",
    "    # Objective Function used is E=.5*e^2, where e=d-y\n",
    "    def backward_pass(self, expected, linear_output_activation=True):\n",
    "        deltas = []\n",
    "\n",
    "        # The output layer is a special case:\n",
    "        objective_deriv = expected - self.dataflow[-1]     # dE/de\n",
    "        error_deriv = -1                                   # de/dy\n",
    "        if (linear_output_activation):\n",
    "            output_deriv = 1                               # dy/dv\n",
    "        else:\n",
    "            output_deriv = self.activation_deriv(self.weight_matrices[-1] * self.dataflow[-2])\n",
    "        product = np.multiply(objective_deriv, output_deriv * error_deriv)\n",
    "        weight_delta = product * self.dataflow[-2].transpose() # (dE/dv)(dv/dw) = dE/dw\n",
    "\n",
    "        assert(weight_delta.shape == self.weight_matrices[-1].shape) # assert matches expected\n",
    "        deltas.append(weight_delta)\n",
    "\n",
    "        # Compute weight delta matrices for hidden layers:\n",
    "        for i in reversed(range(len(self.weight_matrices) - 1)):\n",
    "            # Bias of the output layer does not contribute to the weights of this layer, so drop it:\n",
    "            out_layer = self.weight_matrices[i+1][:, 1:].transpose() * product\n",
    "            in_layer = self.activation_deriv(self.weight_matrices[i] * self.dataflow[i])\n",
    "            product = np.multiply(out_layer, in_layer) # Hadamard product\n",
    "            weight_delta = product * self.dataflow[i].transpose()\n",
    "\n",
    "            assert(weight_delta.shape == self.weight_matrices[i].shape) # assert matches expected\n",
    "            deltas.append(weight_delta)\n",
    "\n",
    "        return list(reversed(deltas)) # Return ascending list of weight delta matrices\n",
    "\n",
    "    # Updates the weights according to the weight delta matrices passed in\n",
    "    def update_weights(self, weight_deltas, learning_rate):\n",
    "        for i in range(len(self.weight_matrices)):\n",
    "            self.weight_matrices[i][:] += np.multiply(weight_deltas[i], -learning_rate)\n",
    "\n",
    "    # Changes the network weights using the passed training example\n",
    "    def train_example(self, feature_vec, expected):\n",
    "        assert(feature_vec.shape[0] == self.layers[0])\n",
    "        out = self.forward_pass(feature_vec)\n",
    "        weight_deltas = self.backward_pass(expected)\n",
    "        self.update_weights(weight_deltas, self.learning_rate)\n",
    "\n",
    "    # Fits the neural net to the training set using either online or batch training\n",
    "    def fit(self, features, labels, type='online', num_epochs=100):\n",
    "        assert(features.shape[0] == labels.shape[0])\n",
    "        numdigits = len(str(num_epochs))\n",
    "\n",
    "        for epoch in range(1, num_epochs+1):\n",
    "            if (not self.suppress_output):\n",
    "                print('epoch ' + str(epoch).zfill(numdigits), end='')\n",
    "            for i in range(features.shape[0]):\n",
    "                self.train_example(features[i], labels[i])\n",
    "            if (not self.suppress_output):\n",
    "                print('...done')\n",
    "\n",
    "    # Passes the feature list through the network and returns a list of predictions\n",
    "    def predict(self, features, labelshape):\n",
    "        assert(features.shape[0] == labelshape[0])\n",
    "        predictions = np.zeros(labelshape)\n",
    "\n",
    "        for i in range(features.shape[0]):\n",
    "            predictions[i][:] = self.forward_pass(features[i])\n",
    "\n",
    "        return predictions"
   ]
  },
  {
   "cell_type": "markdown",
   "metadata": {},
   "source": [
    "## Implementation Test"
   ]
  },
  {
   "cell_type": "code",
   "execution_count": 3,
   "metadata": {
    "collapsed": false
   },
   "outputs": [],
   "source": [
    "np.seterr(all='raise')  # Have numpy exit execution on any errors (such as underflow)\n",
    "\n",
    "# Generate train and test data for e^-x\n",
    "train_inputs = np.random.uniform(low=0, high=20, size=500)\n",
    "train_outputs = train_inputs * np.exp(-train_inputs)\n",
    "train_inputs = train_inputs.reshape(len(train_inputs), 1)\n",
    "train_outputs = train_outputs.reshape(len(train_outputs), 1)\n",
    "\n",
    "test_inputs = np.linspace(0, 5, num=50)\n",
    "test_outputs = test_inputs * np.exp(-test_inputs)\n",
    "test_inputs = test_inputs.reshape(len(test_inputs), 1)\n",
    "test_outputs = test_outputs.reshape(len(test_outputs), 1)\n",
    "\n",
    "ff = Feedforward_Neural_Network()"
   ]
  },
  {
   "cell_type": "code",
   "execution_count": 4,
   "metadata": {
    "collapsed": false
   },
   "outputs": [
    {
     "data": {
      "image/png": "[encoded data removed]",
      "text/plain": [
       "<matplotlib.figure.Figure at 0x1cb19376358>"
      ]
     },
     "metadata": {},
     "output_type": "display_data"
    }
   ],
   "source": [
    "untrained_predictions = ff.predict(test_inputs, test_outputs.shape)\n",
    "plt.scatter(test_inputs, test_outputs, label='Actual $f(x)=xe^{-x}$')\n",
    "plt.scatter(test_inputs, untrained_predictions, label='NN Predicted $f(x)=xe^{-x}$')\n",
    "plt.title('Actual and NN Function Approximation, Before Training')\n",
    "plt.legend();"
   ]
  },
  {
   "cell_type": "code",
   "execution_count": 5,
   "metadata": {
    "collapsed": false
   },
   "outputs": [
    {
     "data": {
      "image/png": "[encoded data removed]",
      "text/plain": [
       "<matplotlib.figure.Figure at 0x1cb1982b048>"
      ]
     },
     "metadata": {},
     "output_type": "display_data"
    }
   ],
   "source": [
    "ff.fit(train_inputs, train_outputs)\n",
    "trained_predictions = ff.predict(test_inputs, test_outputs.shape)\n",
    "plt.scatter(test_inputs, test_outputs, label='Actual $f(x)=xe^{-x}$')\n",
    "plt.scatter(test_inputs, trained_predictions, label='NN Predicted $f(x)=xe^{-x}$')\n",
    "plt.title('Actual and NN Function Approximation, After Training')\n",
    "plt.legend();"
   ]
  },
  {
   "cell_type": "code",
   "execution_count": null,
   "metadata": {
    "collapsed": true
   },
   "outputs": [],
   "source": []
  }
 ],
 "metadata": {
  "anaconda-cloud": {},
  "kernelspec": {
   "display_name": "Python [Root]",
   "language": "python",
   "name": "Python [Root]"
  },
  "language_info": {
   "codemirror_mode": {
    "name": "ipython",
    "version": 3
   },
   "file_extension": ".py",
   "mimetype": "text/x-python",
   "name": "python",
   "nbconvert_exporter": "python",
   "pygments_lexer": "ipython3",
   "version": "3.5.2"
  }
 },
 "nbformat": 4,
 "nbformat_minor": 0
}
